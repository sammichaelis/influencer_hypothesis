{
 "cells": [
  {
   "cell_type": "code",
   "execution_count": 3,
   "metadata": {},
   "outputs": [
    {
     "name": "stdout",
     "output_type": "stream",
     "text": [
      "The autoreload extension is already loaded. To reload it, use:\n",
      "  %reload_ext autoreload\n"
     ]
    }
   ],
   "source": [
    "%load_ext autoreload\n",
    "%autoreload 1"
   ]
  },
  {
   "cell_type": "code",
   "execution_count": 6,
   "metadata": {},
   "outputs": [],
   "source": [
    "import numpy as np\n",
    "import pandas as pd\n",
    "import re\n",
    "import os\n",
    "import matplotlib.pyplot as plt\n",
    "import seaborn as sns\n",
    "\n",
    "\n",
    "from src.data.get_historical_tweets import *\n",
    "from src.data.yahoo_finance_historical import *\n",
    "\n"
   ]
  },
  {
   "cell_type": "code",
   "execution_count": 16,
   "metadata": {},
   "outputs": [],
   "source": [
    "# feature processing\n",
    "import time\n"
   ]
  },
  {
   "cell_type": "code",
   "execution_count": 7,
   "metadata": {},
   "outputs": [
    {
     "name": "stdout",
     "output_type": "stream",
     "text": [
      "getting tweets before 1127522225224146948\n",
      "...400 tweets downloaded so far\n",
      "getting tweets before 1124672389416144904\n",
      "...598 tweets downloaded so far\n",
      "getting tweets before 1121095181690974207\n",
      "...798 tweets downloaded so far\n",
      "getting tweets before 1116699102438461441\n",
      "...998 tweets downloaded so far\n",
      "getting tweets before 1110242521400123393\n",
      "...1198 tweets downloaded so far\n",
      "getting tweets before 1104714098724519935\n",
      "...1398 tweets downloaded so far\n",
      "getting tweets before 1098948459405721599\n",
      "...1598 tweets downloaded so far\n",
      "getting tweets before 1090459824196907007\n",
      "...1798 tweets downloaded so far\n",
      "getting tweets before 1084644517238714368\n",
      "...1998 tweets downloaded so far\n",
      "getting tweets before 1076844349860823041\n",
      "...2198 tweets downloaded so far\n",
      "getting tweets before 1069613383622803455\n",
      "...2397 tweets downloaded so far\n",
      "getting tweets before 1060949297900834815\n",
      "...2597 tweets downloaded so far\n",
      "getting tweets before 1056181643810168831\n",
      "...2796 tweets downloaded so far\n",
      "getting tweets before 1050436733039534079\n",
      "...2994 tweets downloaded so far\n",
      "getting tweets before 1042988257166819328\n",
      "...3190 tweets downloaded so far\n",
      "getting tweets before 1038534611880603649\n",
      "...3190 tweets downloaded so far\n"
     ]
    }
   ],
   "source": [
    "DJT_df = get_all_tweets(\"realDonaldTrump\", use_pandas=True)"
   ]
  },
  {
   "cell_type": "code",
   "execution_count": 8,
   "metadata": {},
   "outputs": [
    {
     "data": {
      "text/html": [
       "<div>\n",
       "<style scoped>\n",
       "    .dataframe tbody tr th:only-of-type {\n",
       "        vertical-align: middle;\n",
       "    }\n",
       "\n",
       "    .dataframe tbody tr th {\n",
       "        vertical-align: top;\n",
       "    }\n",
       "\n",
       "    .dataframe thead th {\n",
       "        text-align: right;\n",
       "    }\n",
       "</style>\n",
       "<table border=\"1\" class=\"dataframe\">\n",
       "  <thead>\n",
       "    <tr style=\"text-align: right;\">\n",
       "      <th></th>\n",
       "      <th>contributors</th>\n",
       "      <th>coordinates</th>\n",
       "      <th>created_at</th>\n",
       "      <th>entities</th>\n",
       "      <th>extended_entities</th>\n",
       "      <th>favorite_count</th>\n",
       "      <th>favorited</th>\n",
       "      <th>geo</th>\n",
       "      <th>id</th>\n",
       "      <th>id_str</th>\n",
       "      <th>...</th>\n",
       "      <th>quoted_status</th>\n",
       "      <th>quoted_status_id</th>\n",
       "      <th>quoted_status_id_str</th>\n",
       "      <th>retweet_count</th>\n",
       "      <th>retweeted</th>\n",
       "      <th>retweeted_status</th>\n",
       "      <th>source</th>\n",
       "      <th>text</th>\n",
       "      <th>truncated</th>\n",
       "      <th>user</th>\n",
       "    </tr>\n",
       "  </thead>\n",
       "  <tbody>\n",
       "    <tr>\n",
       "      <th>0</th>\n",
       "      <td>None</td>\n",
       "      <td>None</td>\n",
       "      <td>Wed May 22 20:46:35 +0000 2019</td>\n",
       "      <td>{'hashtags': [], 'symbols': [], 'user_mentions...</td>\n",
       "      <td>NaN</td>\n",
       "      <td>29653</td>\n",
       "      <td>False</td>\n",
       "      <td>None</td>\n",
       "      <td>1131300345928441857</td>\n",
       "      <td>1131300345928441857</td>\n",
       "      <td>...</td>\n",
       "      <td>NaN</td>\n",
       "      <td>NaN</td>\n",
       "      <td>NaN</td>\n",
       "      <td>8189</td>\n",
       "      <td>False</td>\n",
       "      <td>NaN</td>\n",
       "      <td>&lt;a href=\"http://twitter.com/download/iphone\" r...</td>\n",
       "      <td>I want to welcome you all to the @WhiteHouse a...</td>\n",
       "      <td>True</td>\n",
       "      <td>{'id': 25073877, 'id_str': '25073877', 'name':...</td>\n",
       "    </tr>\n",
       "    <tr>\n",
       "      <th>1</th>\n",
       "      <td>None</td>\n",
       "      <td>None</td>\n",
       "      <td>Wed May 22 17:02:23 +0000 2019</td>\n",
       "      <td>{'hashtags': [], 'symbols': [], 'user_mentions...</td>\n",
       "      <td>NaN</td>\n",
       "      <td>58118</td>\n",
       "      <td>False</td>\n",
       "      <td>None</td>\n",
       "      <td>1131243922188054529</td>\n",
       "      <td>1131243922188054529</td>\n",
       "      <td>...</td>\n",
       "      <td>NaN</td>\n",
       "      <td>NaN</td>\n",
       "      <td>NaN</td>\n",
       "      <td>14187</td>\n",
       "      <td>False</td>\n",
       "      <td>NaN</td>\n",
       "      <td>&lt;a href=\"http://twitter.com/download/iphone\" r...</td>\n",
       "      <td>....Democrat leadership is tearing the United ...</td>\n",
       "      <td>True</td>\n",
       "      <td>{'id': 25073877, 'id_str': '25073877', 'name':...</td>\n",
       "    </tr>\n",
       "    <tr>\n",
       "      <th>2</th>\n",
       "      <td>None</td>\n",
       "      <td>None</td>\n",
       "      <td>Wed May 22 17:01:22 +0000 2019</td>\n",
       "      <td>{'hashtags': [], 'symbols': [], 'user_mentions...</td>\n",
       "      <td>NaN</td>\n",
       "      <td>52805</td>\n",
       "      <td>False</td>\n",
       "      <td>None</td>\n",
       "      <td>1131243666968911875</td>\n",
       "      <td>1131243666968911875</td>\n",
       "      <td>...</td>\n",
       "      <td>NaN</td>\n",
       "      <td>NaN</td>\n",
       "      <td>NaN</td>\n",
       "      <td>11480</td>\n",
       "      <td>False</td>\n",
       "      <td>NaN</td>\n",
       "      <td>&lt;a href=\"http://twitter.com/download/iphone\" r...</td>\n",
       "      <td>....In the meantime, my Administration is achi...</td>\n",
       "      <td>True</td>\n",
       "      <td>{'id': 25073877, 'id_str': '25073877', 'name':...</td>\n",
       "    </tr>\n",
       "    <tr>\n",
       "      <th>3</th>\n",
       "      <td>None</td>\n",
       "      <td>None</td>\n",
       "      <td>Wed May 22 17:01:22 +0000 2019</td>\n",
       "      <td>{'hashtags': [], 'symbols': [], 'user_mentions...</td>\n",
       "      <td>NaN</td>\n",
       "      <td>18426</td>\n",
       "      <td>False</td>\n",
       "      <td>None</td>\n",
       "      <td>1131243665685397506</td>\n",
       "      <td>1131243665685397506</td>\n",
       "      <td>...</td>\n",
       "      <td>NaN</td>\n",
       "      <td>NaN</td>\n",
       "      <td>NaN</td>\n",
       "      <td>5818</td>\n",
       "      <td>False</td>\n",
       "      <td>NaN</td>\n",
       "      <td>&lt;a href=\"http://twitter.com/download/iphone\" r...</td>\n",
       "      <td>....But they really want a do-over! You can’t ...</td>\n",
       "      <td>True</td>\n",
       "      <td>{'id': 25073877, 'id_str': '25073877', 'name':...</td>\n",
       "    </tr>\n",
       "    <tr>\n",
       "      <th>4</th>\n",
       "      <td>None</td>\n",
       "      <td>None</td>\n",
       "      <td>Wed May 22 17:01:21 +0000 2019</td>\n",
       "      <td>{'hashtags': [], 'symbols': [], 'user_mentions...</td>\n",
       "      <td>NaN</td>\n",
       "      <td>74518</td>\n",
       "      <td>False</td>\n",
       "      <td>None</td>\n",
       "      <td>1131243663948959745</td>\n",
       "      <td>1131243663948959745</td>\n",
       "      <td>...</td>\n",
       "      <td>NaN</td>\n",
       "      <td>NaN</td>\n",
       "      <td>NaN</td>\n",
       "      <td>18901</td>\n",
       "      <td>False</td>\n",
       "      <td>NaN</td>\n",
       "      <td>&lt;a href=\"http://twitter.com/download/iphone\" r...</td>\n",
       "      <td>So sad that Nancy Pelosi and Chuck Schumer wil...</td>\n",
       "      <td>True</td>\n",
       "      <td>{'id': 25073877, 'id_str': '25073877', 'name':...</td>\n",
       "    </tr>\n",
       "  </tbody>\n",
       "</table>\n",
       "<p>5 rows × 29 columns</p>\n",
       "</div>"
      ],
      "text/plain": [
       "  contributors coordinates                      created_at  \\\n",
       "0         None        None  Wed May 22 20:46:35 +0000 2019   \n",
       "1         None        None  Wed May 22 17:02:23 +0000 2019   \n",
       "2         None        None  Wed May 22 17:01:22 +0000 2019   \n",
       "3         None        None  Wed May 22 17:01:22 +0000 2019   \n",
       "4         None        None  Wed May 22 17:01:21 +0000 2019   \n",
       "\n",
       "                                            entities extended_entities  \\\n",
       "0  {'hashtags': [], 'symbols': [], 'user_mentions...               NaN   \n",
       "1  {'hashtags': [], 'symbols': [], 'user_mentions...               NaN   \n",
       "2  {'hashtags': [], 'symbols': [], 'user_mentions...               NaN   \n",
       "3  {'hashtags': [], 'symbols': [], 'user_mentions...               NaN   \n",
       "4  {'hashtags': [], 'symbols': [], 'user_mentions...               NaN   \n",
       "\n",
       "   favorite_count  favorited   geo                   id               id_str  \\\n",
       "0           29653      False  None  1131300345928441857  1131300345928441857   \n",
       "1           58118      False  None  1131243922188054529  1131243922188054529   \n",
       "2           52805      False  None  1131243666968911875  1131243666968911875   \n",
       "3           18426      False  None  1131243665685397506  1131243665685397506   \n",
       "4           74518      False  None  1131243663948959745  1131243663948959745   \n",
       "\n",
       "                         ...                         quoted_status  \\\n",
       "0                        ...                                   NaN   \n",
       "1                        ...                                   NaN   \n",
       "2                        ...                                   NaN   \n",
       "3                        ...                                   NaN   \n",
       "4                        ...                                   NaN   \n",
       "\n",
       "   quoted_status_id quoted_status_id_str  retweet_count retweeted  \\\n",
       "0               NaN                  NaN           8189     False   \n",
       "1               NaN                  NaN          14187     False   \n",
       "2               NaN                  NaN          11480     False   \n",
       "3               NaN                  NaN           5818     False   \n",
       "4               NaN                  NaN          18901     False   \n",
       "\n",
       "   retweeted_status                                             source  \\\n",
       "0               NaN  <a href=\"http://twitter.com/download/iphone\" r...   \n",
       "1               NaN  <a href=\"http://twitter.com/download/iphone\" r...   \n",
       "2               NaN  <a href=\"http://twitter.com/download/iphone\" r...   \n",
       "3               NaN  <a href=\"http://twitter.com/download/iphone\" r...   \n",
       "4               NaN  <a href=\"http://twitter.com/download/iphone\" r...   \n",
       "\n",
       "                                                text truncated  \\\n",
       "0  I want to welcome you all to the @WhiteHouse a...      True   \n",
       "1  ....Democrat leadership is tearing the United ...      True   \n",
       "2  ....In the meantime, my Administration is achi...      True   \n",
       "3  ....But they really want a do-over! You can’t ...      True   \n",
       "4  So sad that Nancy Pelosi and Chuck Schumer wil...      True   \n",
       "\n",
       "                                                user  \n",
       "0  {'id': 25073877, 'id_str': '25073877', 'name':...  \n",
       "1  {'id': 25073877, 'id_str': '25073877', 'name':...  \n",
       "2  {'id': 25073877, 'id_str': '25073877', 'name':...  \n",
       "3  {'id': 25073877, 'id_str': '25073877', 'name':...  \n",
       "4  {'id': 25073877, 'id_str': '25073877', 'name':...  \n",
       "\n",
       "[5 rows x 29 columns]"
      ]
     },
     "execution_count": 8,
     "metadata": {},
     "output_type": "execute_result"
    }
   ],
   "source": [
    "DJT_df.head()"
   ]
  },
  {
   "cell_type": "code",
   "execution_count": 9,
   "metadata": {},
   "outputs": [
    {
     "data": {
      "text/plain": [
       "(3190, 29)"
      ]
     },
     "execution_count": 9,
     "metadata": {},
     "output_type": "execute_result"
    }
   ],
   "source": [
    "DJT_df.shape"
   ]
  },
  {
   "cell_type": "code",
   "execution_count": 14,
   "metadata": {},
   "outputs": [
    {
     "data": {
      "text/plain": [
       "'Sat Sep 08 21:08:41 +0000 2018'"
      ]
     },
     "execution_count": 14,
     "metadata": {},
     "output_type": "execute_result"
    }
   ],
   "source": [
    "DJT_df.created_at.values[-1]"
   ]
  },
  {
   "cell_type": "code",
   "execution_count": 23,
   "metadata": {},
   "outputs": [],
   "source": [
    "\n",
    "def tweet_to_timestamp(date):\n",
    "    return time.strptime(date,'%a %b %d %H:%M:%S +0000 %Y')"
   ]
  },
  {
   "cell_type": "code",
   "execution_count": 24,
   "metadata": {},
   "outputs": [],
   "source": [
    "DJT_df['timestamp'] = DJT_df['created_at'].apply(tweet_to_timestamp)"
   ]
  },
  {
   "cell_type": "code",
   "execution_count": 26,
   "metadata": {},
   "outputs": [
    {
     "data": {
      "text/plain": [
       "time.struct_time(tm_year=2019, tm_mon=5, tm_mday=22, tm_hour=20, tm_min=46, tm_sec=35, tm_wday=2, tm_yday=142, tm_isdst=-1)"
      ]
     },
     "execution_count": 26,
     "metadata": {},
     "output_type": "execute_result"
    }
   ],
   "source": [
    "DJT_df['timestamp'].values[0] "
   ]
  },
  {
   "cell_type": "code",
   "execution_count": null,
   "metadata": {},
   "outputs": [],
   "source": []
  }
 ],
 "metadata": {
  "kernelspec": {
   "display_name": "Python 3",
   "language": "python",
   "name": "python3"
  },
  "language_info": {
   "codemirror_mode": {
    "name": "ipython",
    "version": 3
   },
   "file_extension": ".py",
   "mimetype": "text/x-python",
   "name": "python",
   "nbconvert_exporter": "python",
   "pygments_lexer": "ipython3",
   "version": "3.6.6"
  }
 },
 "nbformat": 4,
 "nbformat_minor": 2
}
